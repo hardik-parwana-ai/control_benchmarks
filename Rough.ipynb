{
 "cells": [
  {
   "cell_type": "code",
   "execution_count": 1,
   "id": "ae5ec599-a2a4-416c-97d3-d7223de3a155",
   "metadata": {},
   "outputs": [],
   "source": [
    "import numpy as np\n",
    "import matplotlib.pyplot as plt"
   ]
  },
  {
   "cell_type": "code",
   "execution_count": 2,
   "id": "e974549b-09c1-448b-a763-054c2137367d",
   "metadata": {},
   "outputs": [],
   "source": [
    "l1 = 1.5\n",
    "l2 = 1.3"
   ]
  },
  {
   "cell_type": "code",
   "execution_count": 12,
   "id": "e07774a3-4646-48d4-b6f1-5f9e75c0e9d2",
   "metadata": {},
   "outputs": [],
   "source": [
    "delta = np.linspace(0.01, np.pi/3, 200)"
   ]
  },
  {
   "cell_type": "code",
   "execution_count": 13,
   "id": "a38eaa11-dd20-4723-824b-fc231d9e6854",
   "metadata": {},
   "outputs": [],
   "source": [
    "f = (l1 + l2 / np.cos(delta)) * ( (l1**2 + l2**2 * np.cos(delta) + 2*l1*l2*np.cos(delta) ) / (l2 * np.sin(delta)) )\n",
    "    "
   ]
  },
  {
   "cell_type": "code",
   "execution_count": 16,
   "id": "04ab0abb-ed43-4f50-8087-86ed6a7d3bcb",
   "metadata": {},
   "outputs": [],
   "source": [
    "# f"
   ]
  },
  {
   "cell_type": "code",
   "execution_count": 17,
   "id": "d07e7758-5562-4deb-8cf3-e02489aee3d3",
   "metadata": {},
   "outputs": [
    {
     "data": {
      "text/plain": [
       "[<matplotlib.lines.Line2D at 0x7fba75219930>]"
      ]
     },
     "execution_count": 17,
     "metadata": {},
     "output_type": "execute_result"
    },
    {
     "data": {
      "image/png": "[encoded data removed]",
      "text/plain": [
       "<Figure size 640x480 with 1 Axes>"
      ]
     },
     "metadata": {},
     "output_type": "display_data"
    }
   ],
   "source": [
    "plt.plot(delta, f)"
   ]
  },
  {
   "cell_type": "code",
   "execution_count": 5,
   "id": "596533b2-44a7-4b5f-8d76-e988687fe33f",
   "metadata": {},
   "outputs": [
    {
     "ename": "ModuleNotFoundError",
     "evalue": "No module named 'sympy'",
     "output_type": "error",
     "traceback": [
      "\u001b[0;31m---------------------------------------------------------------------------\u001b[0m",
      "\u001b[0;31mModuleNotFoundError\u001b[0m                       Traceback (most recent call last)",
      "Cell \u001b[0;32mIn[5], line 1\u001b[0m\n\u001b[0;32m----> 1\u001b[0m \u001b[38;5;28;01mfrom\u001b[39;00m\u001b[38;5;250m \u001b[39m\u001b[38;5;21;01msympy\u001b[39;00m\u001b[38;5;250m \u001b[39m\u001b[38;5;28;01mimport\u001b[39;00m simplify, cos, sin, expand\n",
      "\u001b[0;31mModuleNotFoundError\u001b[0m: No module named 'sympy'"
     ]
    }
   ],
   "source": [
    "from sympy import simplify, cos, sin, expand"
   ]
  },
  {
   "cell_type": "code",
   "execution_count": 4,
   "id": "495f3290-7ed5-4c60-8730-34891b505150",
   "metadata": {},
   "outputs": [
    {
     "name": "stdout",
     "output_type": "stream",
     "text": [
      "Requirement already satisfied: sympy in ./venv310/lib/python3.10/site-packages (1.14.0)\n",
      "Requirement already satisfied: mpmath<1.4,>=1.1.0 in ./venv310/lib/python3.10/site-packages (from sympy) (1.3.0)\n"
     ]
    }
   ],
   "source": [
    "!pip install sympy"
   ]
  },
  {
   "cell_type": "code",
   "execution_count": null,
   "id": "4a99d71d-42f3-44fc-a1ca-edc7080982fb",
   "metadata": {},
   "outputs": [],
   "source": [
    "def func(delta):\n",
    "    \n",
    "def find_sol(x):\n",
    "    "
   ]
  }
 ],
 "metadata": {
  "kernelspec": {
   "display_name": "Python 3 (ipykernel)",
   "language": "python",
   "name": "python3"
  },
  "language_info": {
   "codemirror_mode": {
    "name": "ipython",
    "version": 3
   },
   "file_extension": ".py",
   "mimetype": "text/x-python",
   "name": "python",
   "nbconvert_exporter": "python",
   "pygments_lexer": "ipython3",
   "version": "3.10.12"
  }
 },
 "nbformat": 4,
 "nbformat_minor": 5
}
